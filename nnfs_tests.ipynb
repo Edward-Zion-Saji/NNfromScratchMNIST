{
 "cells": [
  {
   "cell_type": "code",
   "execution_count": 249,
   "id": "1c808e52-b1ad-4efe-9d0f-6fbfb03811be",
   "metadata": {},
   "outputs": [],
   "source": [
    "import numpy as np\n",
    "import pandas as pd\n",
    "import matplotlib.pyplot as plt\n",
    "from PIL import Image\n",
    "import cv2\n",
    "data = pd.read_csv('digit-recognizer/train.csv')\n"
   ]
  },
  {
   "cell_type": "code",
   "execution_count": 250,
   "id": "9fe8ab35-5527-41a8-936a-6a978525d062",
   "metadata": {},
   "outputs": [],
   "source": [
    "data = np.array(data)"
   ]
  },
  {
   "cell_type": "code",
   "execution_count": 251,
   "id": "9400edae-2141-48c3-b152-cf0351665e3c",
   "metadata": {},
   "outputs": [
    {
     "data": {
      "text/plain": [
       "(42000, 785)"
      ]
     },
     "execution_count": 251,
     "metadata": {},
     "output_type": "execute_result"
    }
   ],
   "source": [
    "data.shape\n"
   ]
  },
  {
   "cell_type": "code",
   "execution_count": 252,
   "id": "40198222-9485-437a-b38a-51a3a91c2699",
   "metadata": {},
   "outputs": [],
   "source": [
    "m, n = data.shape"
   ]
  },
  {
   "cell_type": "code",
   "execution_count": 253,
   "id": "49173b9f-e07e-48a5-b812-194647fc9ef9",
   "metadata": {},
   "outputs": [],
   "source": [
    "np.random.shuffle(data)"
   ]
  },
  {
   "cell_type": "code",
   "execution_count": 254,
   "id": "7a997cb6-b383-4842-a14e-3a468074ca0b",
   "metadata": {},
   "outputs": [
    {
     "name": "stdout",
     "output_type": "stream",
     "text": [
      "[[7 0 0 ... 0 0 0]\n",
      " [0 0 0 ... 0 0 0]\n",
      " [4 0 0 ... 0 0 0]\n",
      " ...\n",
      " [8 0 0 ... 0 0 0]\n",
      " [9 0 0 ... 0 0 0]\n",
      " [1 0 0 ... 0 0 0]]\n"
     ]
    }
   ],
   "source": [
    "print(data)"
   ]
  },
  {
   "cell_type": "code",
   "execution_count": 255,
   "id": "fe48215b-5abd-4c5c-bfda-f6869127f8f3",
   "metadata": {},
   "outputs": [
    {
     "name": "stdout",
     "output_type": "stream",
     "text": [
      "[  9   0   0   0   0   0   0   0   0   0   0   0   0   0   0   0   0   0\n",
      "   0   0   0   0   0   0   0   0   0   0   0   0   0   0   0   0   0   0\n",
      "   0   0   0   0   0   0   0   0   0   0   0   0   0   0   0   0   0   0\n",
      "   0   0   0   0   0   0   0   0   0   0   0   0   0   0   0   0   0   0\n",
      "   0   0   0   0   0   0   0   0   0   0   0   0   0   0   0   0   0   0\n",
      "   0   0   0   0   0   0   0   0   0   0   0   0   0   0   0   0   0   0\n",
      "   0   0   0   0   0   0   0   0   0   0   0   0   0   0   0   0   0   0\n",
      "   0   0   0   0   0   0   0   0   0   0   0   0   0   0   0   0   0   0\n",
      "   0   0   0   0   0   0   0   0   0   0   0   0   0   0   0   0   0   0\n",
      "   0   0   0   0   0   0   0   0   0   0   0   0   0   0   0   7 124 250\n",
      " 254 254 255 163  93  18   1   0   0   0   0   0   0   0   0   0   0   0\n",
      "   0   0   0   0   0   0  10 167 253 253 253 253 253 253 253 253 156  81\n",
      "   0   0   0   0   0   0   0   0   0   0   0   0   0   0   0   0  97 253\n",
      " 253 227 189  82 164 241 253 253 253 224   0   0   0   0   0   0   0   0\n",
      "   0   0   0   0   0   0   0  74 237 253 253  97   0   0   0  50  65  65\n",
      "  65  57   0   0   0   0   0   0   0   0   0   0   0   0   0   0   0 171\n",
      " 253 253 125   2   0   0   0   0   0   0  46  89  31   0   0   0   0   0\n",
      "   0   0   0   0   0   0   0   0   0 171 253 253  29   0   0   0   0   0\n",
      "   0   0 235 253  88   0   0   0   0   0   0   0   0   0   0   0   0   0\n",
      "   0 171 253 210  15   0   0   0   0   0   0  59 251 253  91   0   0   0\n",
      "   0   0   0   0   0   0   0   0   0   0   0 171 253 164   0   0   0   0\n",
      "   0   0   0 231 253 253 139   0   0   0   0   0   0   0   0   0   0   0\n",
      "   0   0   0 171 253 179   5   0   0   0   0   0  60 245 253 253  88   0\n",
      "   0   0   0   0   0   0   0   0   0   0   0   0   0 171 253 253  29   0\n",
      "   0   0   0  19 187 253 253 253  88   0   0   0   0   0   0   0   0   0\n",
      "   0   0   0   0   0 171 253 253 152  40   0   0   0 114 253 253 253 253\n",
      "  88   0   0   0   0   0   0   0   0   0   0   0   0   0   0  53 185 253\n",
      " 253 234 213 213 213 244 253 209 253 253  88   0   0   0   0   0   0   0\n",
      "   0   0   0   0   0   0   0   0  40 180 253 253 253 253 253 219  97 115\n",
      " 253 253 195   0   0   0   0   0   0   0   0   0   0   0   0   0   0   0\n",
      "   0   2  55 127 241 241 214  86   0  55 190 253 230  42   0   0   0   0\n",
      "   0   0   0   0   0   0   0   0   0   0   0   0   0   0   0   0   0   0\n",
      "   0   0 130 253 253 188   0   0   0   0   0   0   0   0   0   0   0   0\n",
      "   0   0   0   0   0   0   0   0   0   0   0   0 130 253 253 188   0   0\n",
      "   0   0   0   0   0   0   0   0   0   0   0   0   0   0   0   0   0   0\n",
      "   0   0   0   0  45 253 253 235  38   0   0   0   0   0   0   0   0   0\n",
      "   0   0   0   0   0   0   0   0   0   0   0   0   0   0  12 253 253 253\n",
      "  53   0   0   0   0   0   0   0   0   0   0   0   0   0   0   0   0   0\n",
      "   0   0   0   0   0   0   8 211 253 253  53   0   0   0   0   0   0   0\n",
      "   0   0   0   0   0   0   0   0   0   0   0   0   0   0   0   0   0 148\n",
      " 253 253 163   0   0   0   0   0   0   0   0   0   0   0   0   0   0   0\n",
      "   0   0   0   0   0   0   0   0   0   0   0   0   0   0   0   0   0   0\n",
      "   0   0   0   0   0   0   0   0   0   0   0   0   0   0   0   0   0   0\n",
      "   0   0   0   0   0   0   0   0   0   0   0]\n"
     ]
    }
   ],
   "source": [
    "print(data[5])"
   ]
  },
  {
   "cell_type": "code",
   "execution_count": 256,
   "id": "1a61d644-9f1f-4b2b-b226-f1c62c50863b",
   "metadata": {},
   "outputs": [
    {
     "name": "stdout",
     "output_type": "stream",
     "text": [
      "label= 7\n"
     ]
    },
    {
     "data": {
      "image/png": "[encoded data removed]",
      "text/plain": [
       "<Figure size 640x480 with 1 Axes>"
      ]
     },
     "metadata": {},
     "output_type": "display_data"
    }
   ],
   "source": [
    "image = data[342][1:].reshape((28,28))\n",
    "print(\"label=\", data[342][0])\n",
    "plt.imshow(image, interpolation='nearest')\n",
    "plt.show()"
   ]
  },
  {
   "cell_type": "code",
   "execution_count": 257,
   "id": "3d516eb1-0355-4d0c-a3d6-de672f933f13",
   "metadata": {},
   "outputs": [],
   "source": [
    "data_dev = data[0:1000].T\n",
    "Y_dev = data_dev[0]\n",
    "X_dev = data_dev[1:n]\n",
    "X_dev = X_dev / 255."
   ]
  },
  {
   "cell_type": "code",
   "execution_count": 258,
   "id": "8c14b2f9-7c94-4451-83a3-c1557008a58d",
   "metadata": {},
   "outputs": [],
   "source": [
    "data_train = data[1000:m].T\n",
    "Y_train = data_train[0]\n",
    "X_train = data_train[1:n]\n",
    "X_train = X_train / 255."
   ]
  },
  {
   "cell_type": "code",
   "execution_count": 259,
   "id": "4d8f7f44-b7e2-4379-9c7a-6daccaaa9234",
   "metadata": {},
   "outputs": [],
   "source": [
    "def init_params():\n",
    "    W1 = np.random.rand(10, 784) - 0.5\n",
    "    b1 = np.random.rand(10, 1) - 0.5\n",
    "    W2 = np.random.rand(10, 10) - 0.5\n",
    "    b2 = np.random.rand(10, 1) - 0.5\n",
    "    return W1, b1, W2, b2"
   ]
  },
  {
   "cell_type": "code",
   "execution_count": 260,
   "id": "7fc7a34e-0493-4f2c-acf7-a8b59ca280c7",
   "metadata": {},
   "outputs": [],
   "source": [
    "def ReLU(Z):\n",
    "    return(np.maximum(0, Z))\n",
    "\n",
    "def softmax(Z):\n",
    "    A = np.exp(Z) / sum(np.exp(Z))\n",
    "    return A\n",
    "\n",
    "def ReLU_deriv(Z):\n",
    "    return Z > 0"
   ]
  },
  {
   "cell_type": "code",
   "execution_count": 261,
   "id": "03f625db-4d00-491b-ad4c-6a1b044f3828",
   "metadata": {},
   "outputs": [],
   "source": [
    "def forward_prop(W1, b1, W2, b2, X):\n",
    "    Z1 = W1.dot(X)+b1\n",
    "    A1 = ReLU(Z1)\n",
    "    Z2 = W2.dot(A1)+b2\n",
    "    A2 = softmax(Z2)\n",
    "    return Z1, A1, Z2, A2"
   ]
  },
  {
   "cell_type": "code",
   "execution_count": 262,
   "id": "f5cd2428-7cfd-4907-9416-d2f68adcf547",
   "metadata": {},
   "outputs": [],
   "source": [
    "def one_hot(Y):\n",
    "    one_hot_Y = np.zeros((Y.size, Y.max() + 1))\n",
    "    one_hot_Y[np.arange(Y.size), Y] = 1\n",
    "    one_hot_Y = one_hot_Y.T\n",
    "    return one_hot_Y"
   ]
  },
  {
   "cell_type": "code",
   "execution_count": 263,
   "id": "2d2adfb0-cb60-4dc5-8a99-4a142e45d4ae",
   "metadata": {},
   "outputs": [],
   "source": [
    "def backward_prop(Z1, A1, Z2, A2, W1, W2, X, Y):\n",
    "    one_hot_Y = one_hot(Y)\n",
    "    dZ2 = A2 - one_hot_Y\n",
    "    dW2 = 1 / m * dZ2.dot(A1.T)\n",
    "    db2 = 1 / m * np.sum(dZ2)\n",
    "    dZ1 = W2.T.dot(dZ2) * ReLU_deriv(Z1)\n",
    "    dW1 = 1 / m * dZ1.dot(X.T)\n",
    "    db1 = 1 / m * np.sum(dZ1)\n",
    "    return dW1, db1, dW2, db2"
   ]
  },
  {
   "cell_type": "code",
   "execution_count": 264,
   "id": "c0025fa8-b1a5-4d07-8162-5bcd999fb4f5",
   "metadata": {},
   "outputs": [],
   "source": [
    "def update_params(W1, b1, W2, b2, dW1, db1, dW2, db2, alpha):\n",
    "    W1 = W1 - alpha * dW1\n",
    "    b1 = b1 - alpha * db1    \n",
    "    W2 = W2 - alpha * dW2  \n",
    "    b2 = b2 - alpha * db2    \n",
    "    return W1, b1, W2, b2\n",
    "\n",
    "def get_predictions(A2):\n",
    "    return np.argmax(A2, 0)\n",
    "\n",
    "def get_accuracy(predictions, Y):\n",
    "    print(predictions, Y)\n",
    "    return np.sum(predictions == Y) / Y.size\n",
    "\n",
    "def gradient_descent(X, Y, alpha, iterations):\n",
    "    W1, b1, W2, b2 = init_params()\n",
    "    for i in range(iterations):\n",
    "        Z1, A1, Z2, A2 = forward_prop(W1, b1, W2, b2, X)\n",
    "        dW1, db1, dW2, db2 = backward_prop(Z1, A1, Z2, A2, W1, W2, X, Y)\n",
    "        W1, b1, W2, b2 = update_params(W1, b1, W2, b2, dW1, db1, dW2, db2, alpha)\n",
    "        if i % 10 == 0:\n",
    "            print(\"Iteration: \", i)\n",
    "            predictions = get_predictions(A2)\n",
    "            print(get_accuracy(predictions, Y))\n",
    "    return W1, b1, W2, b2"
   ]
  },
  {
   "cell_type": "code",
   "execution_count": 265,
   "id": "c6bdcc30-c84f-4d76-bdce-7205c5bf9788",
   "metadata": {},
   "outputs": [
    {
     "name": "stdout",
     "output_type": "stream",
     "text": [
      "Iteration:  0\n",
      "[8 8 8 ... 1 1 8] [3 1 3 ... 8 9 1]\n",
      "0.12414634146341463\n",
      "Iteration:  10\n",
      "[8 0 3 ... 1 2 0] [3 1 3 ... 8 9 1]\n",
      "0.2581219512195122\n",
      "Iteration:  20\n",
      "[3 8 3 ... 1 2 8] [3 1 3 ... 8 9 1]\n",
      "0.3916829268292683\n",
      "Iteration:  30\n",
      "[3 2 3 ... 1 2 2] [3 1 3 ... 8 9 1]\n",
      "0.505\n",
      "Iteration:  40\n",
      "[3 2 3 ... 1 2 2] [3 1 3 ... 8 9 1]\n",
      "0.5811219512195122\n",
      "Iteration:  50\n",
      "[3 2 3 ... 1 2 2] [3 1 3 ... 8 9 1]\n",
      "0.6292439024390244\n",
      "Iteration:  60\n",
      "[3 1 3 ... 1 9 2] [3 1 3 ... 8 9 1]\n",
      "0.6656585365853659\n",
      "Iteration:  70\n",
      "[3 1 3 ... 1 9 2] [3 1 3 ... 8 9 1]\n",
      "0.6927073170731707\n",
      "Iteration:  80\n",
      "[3 1 3 ... 1 9 2] [3 1 3 ... 8 9 1]\n",
      "0.7140975609756097\n",
      "Iteration:  90\n",
      "[3 1 3 ... 1 9 1] [3 1 3 ... 8 9 1]\n",
      "0.7308780487804878\n",
      "Iteration:  100\n",
      "[3 1 3 ... 1 9 1] [3 1 3 ... 8 9 1]\n",
      "0.7461707317073171\n",
      "Iteration:  110\n",
      "[3 1 3 ... 3 9 1] [3 1 3 ... 8 9 1]\n",
      "0.7579756097560976\n",
      "Iteration:  120\n",
      "[3 1 3 ... 3 9 1] [3 1 3 ... 8 9 1]\n",
      "0.7677073170731707\n",
      "Iteration:  130\n",
      "[3 1 3 ... 3 9 1] [3 1 3 ... 8 9 1]\n",
      "0.7761707317073171\n",
      "Iteration:  140\n",
      "[3 1 3 ... 3 9 1] [3 1 3 ... 8 9 1]\n",
      "0.7837317073170732\n",
      "Iteration:  150\n",
      "[3 1 3 ... 3 9 1] [3 1 3 ... 8 9 1]\n",
      "0.7910243902439025\n",
      "Iteration:  160\n",
      "[3 1 3 ... 3 9 1] [3 1 3 ... 8 9 1]\n",
      "0.7971707317073171\n",
      "Iteration:  170\n",
      "[3 1 3 ... 3 9 1] [3 1 3 ... 8 9 1]\n",
      "0.8039268292682927\n",
      "Iteration:  180\n",
      "[3 1 3 ... 8 9 1] [3 1 3 ... 8 9 1]\n",
      "0.8090731707317074\n",
      "Iteration:  190\n",
      "[3 1 3 ... 8 9 1] [3 1 3 ... 8 9 1]\n",
      "0.8148536585365853\n",
      "Iteration:  200\n",
      "[3 1 3 ... 8 9 1] [3 1 3 ... 8 9 1]\n",
      "0.8189512195121951\n",
      "Iteration:  210\n",
      "[3 1 3 ... 8 9 1] [3 1 3 ... 8 9 1]\n",
      "0.8179268292682926\n",
      "Iteration:  220\n",
      "[3 1 3 ... 8 9 1] [3 1 3 ... 8 9 1]\n",
      "0.8239756097560975\n",
      "Iteration:  230\n",
      "[3 1 3 ... 8 9 1] [3 1 3 ... 8 9 1]\n",
      "0.8297073170731707\n",
      "Iteration:  240\n",
      "[3 1 3 ... 8 9 1] [3 1 3 ... 8 9 1]\n",
      "0.8329756097560975\n",
      "Iteration:  250\n",
      "[3 1 3 ... 8 9 1] [3 1 3 ... 8 9 1]\n",
      "0.8361463414634146\n",
      "Iteration:  260\n",
      "[3 1 3 ... 8 9 1] [3 1 3 ... 8 9 1]\n",
      "0.839390243902439\n",
      "Iteration:  270\n",
      "[3 1 3 ... 8 9 1] [3 1 3 ... 8 9 1]\n",
      "0.8419512195121951\n",
      "Iteration:  280\n",
      "[3 1 3 ... 8 9 1] [3 1 3 ... 8 9 1]\n",
      "0.8445853658536585\n",
      "Iteration:  290\n",
      "[3 1 3 ... 8 9 1] [3 1 3 ... 8 9 1]\n",
      "0.8474390243902439\n",
      "Iteration:  300\n",
      "[3 1 3 ... 8 9 1] [3 1 3 ... 8 9 1]\n",
      "0.8500243902439024\n",
      "Iteration:  310\n",
      "[3 1 3 ... 8 9 1] [3 1 3 ... 8 9 1]\n",
      "0.8520243902439024\n",
      "Iteration:  320\n",
      "[3 1 3 ... 8 9 1] [3 1 3 ... 8 9 1]\n",
      "0.854\n",
      "Iteration:  330\n",
      "[3 1 3 ... 8 9 1] [3 1 3 ... 8 9 1]\n",
      "0.8559756097560975\n",
      "Iteration:  340\n",
      "[3 1 3 ... 8 9 1] [3 1 3 ... 8 9 1]\n",
      "0.8582682926829268\n",
      "Iteration:  350\n",
      "[3 1 3 ... 8 9 1] [3 1 3 ... 8 9 1]\n",
      "0.8600731707317073\n",
      "Iteration:  360\n",
      "[3 1 3 ... 8 9 1] [3 1 3 ... 8 9 1]\n",
      "0.862\n",
      "Iteration:  370\n",
      "[3 1 3 ... 8 9 1] [3 1 3 ... 8 9 1]\n",
      "0.8638780487804878\n",
      "Iteration:  380\n",
      "[3 1 3 ... 8 9 1] [3 1 3 ... 8 9 1]\n",
      "0.8655121951219512\n",
      "Iteration:  390\n",
      "[3 1 3 ... 8 9 1] [3 1 3 ... 8 9 1]\n",
      "0.8670243902439024\n",
      "Iteration:  400\n",
      "[3 1 3 ... 8 9 1] [3 1 3 ... 8 9 1]\n",
      "0.8683170731707317\n",
      "Iteration:  410\n",
      "[3 1 3 ... 8 9 1] [3 1 3 ... 8 9 1]\n",
      "0.8695609756097561\n",
      "Iteration:  420\n",
      "[3 1 3 ... 8 9 1] [3 1 3 ... 8 9 1]\n",
      "0.8704390243902439\n",
      "Iteration:  430\n",
      "[3 1 3 ... 8 9 1] [3 1 3 ... 8 9 1]\n",
      "0.8715365853658537\n",
      "Iteration:  440\n",
      "[3 1 3 ... 8 9 1] [3 1 3 ... 8 9 1]\n",
      "0.8727560975609756\n",
      "Iteration:  450\n",
      "[3 1 3 ... 8 9 1] [3 1 3 ... 8 9 1]\n",
      "0.8742682926829268\n",
      "Iteration:  460\n",
      "[3 1 3 ... 8 9 1] [3 1 3 ... 8 9 1]\n",
      "0.8755121951219512\n",
      "Iteration:  470\n",
      "[3 1 3 ... 8 9 1] [3 1 3 ... 8 9 1]\n",
      "0.8767560975609756\n",
      "Iteration:  480\n",
      "[3 1 3 ... 8 9 1] [3 1 3 ... 8 9 1]\n",
      "0.877609756097561\n",
      "Iteration:  490\n",
      "[3 1 3 ... 8 9 1] [3 1 3 ... 8 9 1]\n",
      "0.878609756097561\n",
      "Iteration:  500\n",
      "[3 1 3 ... 8 9 1] [3 1 3 ... 8 9 1]\n",
      "0.8793658536585366\n",
      "Iteration:  510\n",
      "[3 1 3 ... 8 9 1] [3 1 3 ... 8 9 1]\n",
      "0.8803170731707317\n",
      "Iteration:  520\n",
      "[3 1 3 ... 8 9 1] [3 1 3 ... 8 9 1]\n",
      "0.8810731707317073\n",
      "Iteration:  530\n",
      "[3 1 3 ... 8 9 1] [3 1 3 ... 8 9 1]\n",
      "0.881780487804878\n",
      "Iteration:  540\n",
      "[3 1 3 ... 8 9 1] [3 1 3 ... 8 9 1]\n",
      "0.8828292682926829\n",
      "Iteration:  550\n",
      "[3 1 3 ... 8 9 1] [3 1 3 ... 8 9 1]\n",
      "0.8837804878048781\n",
      "Iteration:  560\n",
      "[3 1 3 ... 8 9 1] [3 1 3 ... 8 9 1]\n",
      "0.8847560975609756\n",
      "Iteration:  570\n",
      "[3 1 3 ... 8 9 1] [3 1 3 ... 8 9 1]\n",
      "0.8852926829268293\n",
      "Iteration:  580\n",
      "[3 1 3 ... 8 9 1] [3 1 3 ... 8 9 1]\n",
      "0.8864878048780488\n",
      "Iteration:  590\n",
      "[3 1 3 ... 8 9 1] [3 1 3 ... 8 9 1]\n",
      "0.8873658536585366\n",
      "Iteration:  600\n",
      "[3 1 3 ... 8 9 1] [3 1 3 ... 8 9 1]\n",
      "0.8880731707317073\n",
      "Iteration:  610\n",
      "[3 1 3 ... 8 9 1] [3 1 3 ... 8 9 1]\n",
      "0.8890731707317073\n",
      "Iteration:  620\n",
      "[3 1 3 ... 8 9 1] [3 1 3 ... 8 9 1]\n",
      "0.8896829268292683\n",
      "Iteration:  630\n",
      "[3 1 3 ... 8 9 1] [3 1 3 ... 8 9 1]\n",
      "0.8902926829268293\n",
      "Iteration:  640\n",
      "[3 1 3 ... 8 9 1] [3 1 3 ... 8 9 1]\n",
      "0.8909512195121951\n",
      "Iteration:  650\n",
      "[3 1 3 ... 8 9 1] [3 1 3 ... 8 9 1]\n",
      "0.8914878048780488\n",
      "Iteration:  660\n",
      "[3 1 3 ... 8 9 1] [3 1 3 ... 8 9 1]\n",
      "0.8920731707317073\n",
      "Iteration:  670\n",
      "[3 1 3 ... 8 9 1] [3 1 3 ... 8 9 1]\n",
      "0.8924634146341464\n",
      "Iteration:  680\n",
      "[3 1 3 ... 8 9 1] [3 1 3 ... 8 9 1]\n",
      "0.8929024390243903\n",
      "Iteration:  690\n",
      "[3 1 3 ... 8 9 1] [3 1 3 ... 8 9 1]\n",
      "0.8935121951219512\n",
      "Iteration:  700\n",
      "[3 1 3 ... 8 9 1] [3 1 3 ... 8 9 1]\n",
      "0.894\n",
      "Iteration:  710\n",
      "[3 1 3 ... 8 9 1] [3 1 3 ... 8 9 1]\n",
      "0.894390243902439\n",
      "Iteration:  720\n",
      "[3 1 3 ... 8 9 1] [3 1 3 ... 8 9 1]\n",
      "0.8948048780487805\n",
      "Iteration:  730\n",
      "[3 1 3 ... 8 9 1] [3 1 3 ... 8 9 1]\n",
      "0.8952439024390244\n",
      "Iteration:  740\n",
      "[3 1 3 ... 8 9 1] [3 1 3 ... 8 9 1]\n",
      "0.8959756097560976\n",
      "Iteration:  750\n",
      "[3 1 3 ... 8 9 1] [3 1 3 ... 8 9 1]\n",
      "0.8963658536585366\n",
      "Iteration:  760\n",
      "[3 1 3 ... 8 9 1] [3 1 3 ... 8 9 1]\n",
      "0.8969756097560976\n",
      "Iteration:  770\n",
      "[3 1 3 ... 8 9 1] [3 1 3 ... 8 9 1]\n",
      "0.8974390243902439\n",
      "Iteration:  780\n",
      "[3 1 3 ... 8 9 1] [3 1 3 ... 8 9 1]\n",
      "0.898\n",
      "Iteration:  790\n",
      "[3 1 3 ... 8 9 1] [3 1 3 ... 8 9 1]\n",
      "0.8983414634146342\n",
      "Iteration:  800\n",
      "[3 1 3 ... 8 9 1] [3 1 3 ... 8 9 1]\n",
      "0.8985365853658537\n",
      "Iteration:  810\n",
      "[3 1 3 ... 8 9 1] [3 1 3 ... 8 9 1]\n",
      "0.8989268292682927\n",
      "Iteration:  820\n",
      "[3 1 3 ... 8 9 1] [3 1 3 ... 8 9 1]\n",
      "0.8992439024390244\n",
      "Iteration:  830\n",
      "[3 1 3 ... 8 9 1] [3 1 3 ... 8 9 1]\n",
      "0.8996341463414634\n",
      "Iteration:  840\n",
      "[3 1 3 ... 8 9 1] [3 1 3 ... 8 9 1]\n",
      "0.8998780487804878\n",
      "Iteration:  850\n",
      "[3 1 3 ... 8 9 1] [3 1 3 ... 8 9 1]\n",
      "0.9000731707317073\n",
      "Iteration:  860\n",
      "[3 1 3 ... 8 9 1] [3 1 3 ... 8 9 1]\n",
      "0.9003170731707317\n",
      "Iteration:  870\n",
      "[3 1 3 ... 8 9 1] [3 1 3 ... 8 9 1]\n",
      "0.9006829268292683\n",
      "Iteration:  880\n",
      "[3 1 3 ... 8 9 1] [3 1 3 ... 8 9 1]\n",
      "0.9009268292682927\n",
      "Iteration:  890\n",
      "[3 1 3 ... 8 9 1] [3 1 3 ... 8 9 1]\n",
      "0.901219512195122\n",
      "Iteration:  900\n",
      "[3 1 3 ... 8 9 1] [3 1 3 ... 8 9 1]\n",
      "0.9016341463414634\n",
      "Iteration:  910\n",
      "[3 1 3 ... 8 9 1] [3 1 3 ... 8 9 1]\n",
      "0.9022682926829269\n",
      "Iteration:  920\n",
      "[3 1 3 ... 8 9 1] [3 1 3 ... 8 9 1]\n",
      "0.9025365853658537\n",
      "Iteration:  930\n",
      "[3 1 3 ... 8 9 1] [3 1 3 ... 8 9 1]\n",
      "0.9029024390243903\n",
      "Iteration:  940\n",
      "[3 1 3 ... 8 9 1] [3 1 3 ... 8 9 1]\n",
      "0.903390243902439\n",
      "Iteration:  950\n",
      "[3 1 3 ... 8 9 1] [3 1 3 ... 8 9 1]\n",
      "0.9037804878048781\n",
      "Iteration:  960\n",
      "[3 1 3 ... 8 9 1] [3 1 3 ... 8 9 1]\n",
      "0.9039268292682927\n",
      "Iteration:  970\n",
      "[3 1 3 ... 8 9 1] [3 1 3 ... 8 9 1]\n",
      "0.9042439024390244\n",
      "Iteration:  980\n",
      "[3 1 3 ... 8 9 1] [3 1 3 ... 8 9 1]\n",
      "0.9045365853658537\n",
      "Iteration:  990\n",
      "[3 1 3 ... 8 9 1] [3 1 3 ... 8 9 1]\n",
      "0.905\n",
      "Iteration:  1000\n",
      "[3 1 3 ... 8 9 1] [3 1 3 ... 8 9 1]\n",
      "0.905219512195122\n",
      "Iteration:  1010\n",
      "[3 1 3 ... 8 9 1] [3 1 3 ... 8 9 1]\n",
      "0.905609756097561\n",
      "Iteration:  1020\n",
      "[3 1 3 ... 8 9 1] [3 1 3 ... 8 9 1]\n",
      "0.9058780487804878\n",
      "Iteration:  1030\n",
      "[3 1 3 ... 8 9 1] [3 1 3 ... 8 9 1]\n",
      "0.9060975609756098\n",
      "Iteration:  1040\n",
      "[3 1 3 ... 8 9 1] [3 1 3 ... 8 9 1]\n",
      "0.9064146341463415\n",
      "Iteration:  1050\n",
      "[3 1 3 ... 8 9 1] [3 1 3 ... 8 9 1]\n",
      "0.9067560975609756\n",
      "Iteration:  1060\n",
      "[3 1 3 ... 8 9 1] [3 1 3 ... 8 9 1]\n",
      "0.9071219512195122\n",
      "Iteration:  1070\n",
      "[3 1 3 ... 8 9 1] [3 1 3 ... 8 9 1]\n",
      "0.9072439024390244\n",
      "Iteration:  1080\n",
      "[3 1 3 ... 8 9 1] [3 1 3 ... 8 9 1]\n",
      "0.9075121951219512\n",
      "Iteration:  1090\n",
      "[3 1 3 ... 8 9 1] [3 1 3 ... 8 9 1]\n",
      "0.907829268292683\n",
      "Iteration:  1100\n",
      "[3 1 3 ... 8 9 1] [3 1 3 ... 8 9 1]\n",
      "0.9081463414634147\n",
      "Iteration:  1110\n",
      "[3 1 3 ... 8 9 1] [3 1 3 ... 8 9 1]\n",
      "0.9083414634146342\n",
      "Iteration:  1120\n",
      "[3 1 3 ... 8 9 1] [3 1 3 ... 8 9 1]\n",
      "0.9084878048780488\n",
      "Iteration:  1130\n",
      "[3 1 3 ... 8 9 1] [3 1 3 ... 8 9 1]\n",
      "0.9087317073170732\n",
      "Iteration:  1140\n",
      "[3 1 3 ... 8 9 1] [3 1 3 ... 8 9 1]\n",
      "0.9090975609756098\n",
      "Iteration:  1150\n",
      "[3 1 3 ... 8 9 1] [3 1 3 ... 8 9 1]\n",
      "0.9093170731707317\n",
      "Iteration:  1160\n",
      "[3 1 3 ... 8 9 1] [3 1 3 ... 8 9 1]\n",
      "0.9095609756097561\n",
      "Iteration:  1170\n",
      "[3 1 3 ... 8 9 1] [3 1 3 ... 8 9 1]\n",
      "0.9098048780487805\n",
      "Iteration:  1180\n",
      "[3 1 3 ... 8 9 1] [3 1 3 ... 8 9 1]\n",
      "0.9103170731707317\n",
      "Iteration:  1190\n",
      "[3 1 3 ... 8 9 1] [3 1 3 ... 8 9 1]\n",
      "0.9107317073170732\n",
      "Iteration:  1200\n",
      "[3 1 3 ... 8 9 1] [3 1 3 ... 8 9 1]\n",
      "0.9109024390243903\n",
      "Iteration:  1210\n",
      "[3 1 3 ... 8 9 1] [3 1 3 ... 8 9 1]\n",
      "0.9111219512195122\n",
      "Iteration:  1220\n",
      "[3 1 3 ... 8 9 1] [3 1 3 ... 8 9 1]\n",
      "0.9113902439024391\n",
      "Iteration:  1230\n",
      "[3 1 3 ... 8 9 1] [3 1 3 ... 8 9 1]\n",
      "0.9115365853658537\n",
      "Iteration:  1240\n",
      "[3 1 3 ... 8 9 1] [3 1 3 ... 8 9 1]\n",
      "0.9117560975609756\n",
      "Iteration:  1250\n",
      "[3 1 3 ... 8 9 1] [3 1 3 ... 8 9 1]\n",
      "0.9120487804878049\n",
      "Iteration:  1260\n",
      "[3 1 3 ... 8 9 1] [3 1 3 ... 8 9 1]\n",
      "0.912219512195122\n",
      "Iteration:  1270\n",
      "[3 1 3 ... 8 9 1] [3 1 3 ... 8 9 1]\n",
      "0.9123902439024391\n",
      "Iteration:  1280\n",
      "[3 1 3 ... 8 9 1] [3 1 3 ... 8 9 1]\n",
      "0.9124878048780488\n",
      "Iteration:  1290\n",
      "[3 1 3 ... 8 9 1] [3 1 3 ... 8 9 1]\n",
      "0.9125853658536586\n",
      "Iteration:  1300\n",
      "[3 1 3 ... 8 9 1] [3 1 3 ... 8 9 1]\n",
      "0.9129268292682927\n",
      "Iteration:  1310\n",
      "[3 1 3 ... 8 9 1] [3 1 3 ... 8 9 1]\n",
      "0.9131219512195122\n",
      "Iteration:  1320\n",
      "[3 1 3 ... 8 9 1] [3 1 3 ... 8 9 1]\n",
      "0.9131707317073171\n",
      "Iteration:  1330\n",
      "[3 1 3 ... 8 9 1] [3 1 3 ... 8 9 1]\n",
      "0.9132682926829269\n",
      "Iteration:  1340\n",
      "[3 1 3 ... 8 9 1] [3 1 3 ... 8 9 1]\n",
      "0.9133902439024391\n",
      "Iteration:  1350\n",
      "[3 1 3 ... 8 9 1] [3 1 3 ... 8 9 1]\n",
      "0.9135121951219513\n",
      "Iteration:  1360\n",
      "[3 1 3 ... 8 9 1] [3 1 3 ... 8 9 1]\n",
      "0.9136829268292683\n",
      "Iteration:  1370\n",
      "[3 1 3 ... 8 9 1] [3 1 3 ... 8 9 1]\n",
      "0.9139268292682927\n",
      "Iteration:  1380\n",
      "[3 1 3 ... 8 9 1] [3 1 3 ... 8 9 1]\n",
      "0.9141951219512195\n",
      "Iteration:  1390\n",
      "[3 1 3 ... 8 9 1] [3 1 3 ... 8 9 1]\n",
      "0.9143170731707317\n"
     ]
    }
   ],
   "source": [
    "W1, b1, W2, b2 = gradient_descent(X_train, Y_train, 0.20, 1400)\n"
   ]
  },
  {
   "cell_type": "code",
   "execution_count": 289,
   "id": "27b186ca-77d5-417c-bdda-9b35303d19ef",
   "metadata": {},
   "outputs": [],
   "source": [
    "def make_predictions(X, W1, b1, W2, b2):\n",
    "    _, _, _, A2 = forward_prop(W1, b1, W2, b2, X)\n",
    "    predictions = get_predictions(A2)\n",
    "    return predictions\n",
    "\n",
    "def test_prediction(index, W1, b1, W2, b2):\n",
    "    current_image = X_train[:, index, None]\n",
    "    #print(X_train[:, index, None])\n",
    "    prediction = make_predictions(X_train[:, index, None], W1, b1, W2, b2)\n",
    "    label = Y_train[index]\n",
    "    print(\"Prediction: \", prediction)\n",
    "    print(\"Label: \", label)\n",
    "    current_image = current_image.reshape((28, 28)) * 255\n",
    "    plt.imshow(current_image, interpolation='nearest')\n",
    "    plt.show()"
   ]
  },
  {
   "cell_type": "code",
   "execution_count": 290,
   "id": "91d8883b-46d8-4491-a63b-9a263a065f67",
   "metadata": {},
   "outputs": [
    {
     "name": "stdout",
     "output_type": "stream",
     "text": [
      "Prediction:  [9]\n",
      "Label:  5\n"
     ]
    },
    {
     "data": {
      "image/png": "[encoded data removed]",
      "text/plain": [
       "<Figure size 640x480 with 1 Axes>"
      ]
     },
     "metadata": {},
     "output_type": "display_data"
    },
    {
     "name": "stdout",
     "output_type": "stream",
     "text": [
      "Prediction:  [3]\n",
      "Label:  3\n"
     ]
    },
    {
     "data": {
      "image/png": "[encoded data removed]",
      "text/plain": [
       "<Figure size 640x480 with 1 Axes>"
      ]
     },
     "metadata": {},
     "output_type": "display_data"
    },
    {
     "name": "stdout",
     "output_type": "stream",
     "text": [
      "Prediction:  [2]\n",
      "Label:  2\n"
     ]
    },
    {
     "data": {
      "image/png": "[encoded data removed]",
      "text/plain": [
       "<Figure size 640x480 with 1 Axes>"
      ]
     },
     "metadata": {},
     "output_type": "display_data"
    },
    {
     "name": "stdout",
     "output_type": "stream",
     "text": [
      "Prediction:  [3]\n",
      "Label:  3\n"
     ]
    },
    {
     "data": {
      "image/png": "[encoded data removed]",
      "text/plain": [
       "<Figure size 640x480 with 1 Axes>"
      ]
     },
     "metadata": {},
     "output_type": "display_data"
    }
   ],
   "source": [
    "test_prediction(7, W1, b1, W2, b2)\n",
    "test_prediction(9, W1, b1, W2, b2)\n",
    "test_prediction(89, W1, b1, W2, b2)\n",
    "test_prediction(24, W1, b1, W2, b2)"
   ]
  },
  {
   "cell_type": "code",
   "execution_count": 279,
   "id": "af5439bd-5927-48f1-a5bd-2e169a033da6",
   "metadata": {},
   "outputs": [
    {
     "name": "stdout",
     "output_type": "stream",
     "text": [
      "[7 0 4 1 1 9 7 2 1 6 9 5 3 6 3 7 7 2 7 5 3 9 4 8 1 8 1 9 8 4 1 7 8 8 5 0 6\n",
      " 4 0 8 8 7 9 6 3 5 0 4 7 3 3 1 0 1 7 1 0 3 3 3 3 8 3 9 1 6 5 5 1 4 7 3 0 1\n",
      " 6 9 9 8 0 9 1 8 3 5 5 9 1 0 7 4 9 3 4 1 4 7 1 6 3 7 3 5 6 8 4 3 7 8 4 7 3\n",
      " 8 5 9 5 4 2 9 6 1 3 9 4 3 0 3 5 3 1 2 6 0 5 0 9 5 7 7 0 2 8 2 1 7 3 8 6 4\n",
      " 7 6 9 7 0 2 3 3 0 9 8 5 8 6 7 5 8 1 9 9 0 2 9 3 3 0 5 1 1 0 0 5 1 3 4 1 7\n",
      " 3 8 7 5 6 6 7 2 9 0 3 1 0 6 0 3 4 0 3 8 8 3 5 6 1 5 6 1 9 5 3 8 3 5 0 0 2\n",
      " 3 9 4 4 1 6 8 1 5 8 2 7 5 6 5 6 9 1 3 6 1 3 5 9 0 3 5 5 4 2 7 7 0 4 5 7 1\n",
      " 4 3 4 6 1 7 4 7 7 1 8 1 0 9 1 3 6 3 9 4 9 4 2 4 4 6 6 3 9 3 2 5 0 3 2 2 2\n",
      " 1 6 7 9 6 3 6 6 3 0 8 7 6 3 4 8 9 9 0 5 4 7 0 7 2 3 6 5 5 7 3 5 7 9 0 9 1\n",
      " 3 0 8 5 3 0 0 6 7 7 1 7 8 5 4 4 3 8 5 1 1 6 0 1 9 3 1 1 8 8 3 8 9 3 6 2 5\n",
      " 9 6 6 8 9 7 2 7 3 0 6 9 1 5 1 7 1 3 3 6 2 1 2 6 6 5 4 4 1 6 3 9 3 1 1 1 1\n",
      " 5 9 9 9 2 9 9 7 3 1 5 4 1 1 9 5 5 8 1 3 4 9 8 4 5 5 4 8 1 7 9 6 9 9 5 5 1\n",
      " 0 2 9 4 0 3 1 6 6 6 0 2 7 3 9 3 9 9 2 2 8 9 4 5 6 9 2 3 1 9 2 1 2 5 0 3 9\n",
      " 0 6 4 9 0 5 4 7 9 7 3 9 0 8 6 9 0 4 5 1 7 0 9 5 3 2 6 1 7 3 2 6 6 8 3 7 5\n",
      " 6 7 6 5 8 1 5 0 6 2 6 9 8 4 2 7 8 9 4 8 7 8 0 4 3 4 6 7 6 4 1 0 9 5 5 8 5\n",
      " 9 3 3 3 2 9 5 2 0 2 7 1 5 8 7 4 2 7 2 5 7 4 9 7 1 0 2 3 9 1 1 7 2 5 9 0 7\n",
      " 0 2 6 1 9 5 2 8 8 4 8 4 0 8 2 3 9 0 7 9 9 2 1 8 3 4 3 2 3 9 5 6 5 0 2 0 0\n",
      " 4 5 0 1 2 8 9 7 9 0 9 7 6 0 9 4 7 7 7 1 1 1 0 5 8 3 2 0 3 4 4 6 9 3 7 1 3\n",
      " 4 7 0 9 7 1 0 1 2 3 1 2 4 3 9 0 4 7 3 4 2 5 5 0 3 0 6 9 7 8 8 2 2 8 6 5 1\n",
      " 5 1 5 9 3 8 0 3 1 6 5 1 9 0 7 6 7 1 9 0 1 9 9 5 4 7 7 4 5 6 1 2 5 6 2 2 8\n",
      " 7 8 6 1 2 5 7 7 0 0 1 9 9 9 8 7 5 7 1 4 2 3 3 0 8 5 4 6 7 9 1 3 6 0 5 7 4\n",
      " 9 9 0 9 1 4 5 3 4 8 1 3 1 4 5 2 3 4 0 9 1 2 9 3 2 9 0 8 6 3 8 1 8 5 7 8 6\n",
      " 6 3 6 3 3 9 1 2 3 3 4 9 5 8 6 0 8 3 4 0 1 0 4 7 8 8 2 9 0 8 6 6 8 1 6 8 3\n",
      " 1 1 9 5 7 2 0 9 0 5 6 0 6 7 0 4 6 7 3 1 0 2 4 3 0 1 8 0 1 2 1 4 8 4 9 0 0\n",
      " 4 0 5 5 3 4 6 4 4 9 5 6 6 1 1 6 1 0 1 9 7 8 3 9 4 8 1 2 5 4 8 7 0 3 7 5 1\n",
      " 7 6 1 0 4 6 7 1 4 1 5 5 2 6 0 8 6 6 0 8 0 6 8 5 8 0 9 6 3 4 3 1 4 3 7 1 0\n",
      " 6 4 5 0 8 2 3 3 9 1 8 3 1 1 3 7 3 0 1 0 1 9 1 5 5 5 3 0 6 4 3 8 6 9 5 5 2\n",
      " 0] [7 0 4 1 1 9 8 2 1 6 9 5 3 6 3 3 7 2 7 5 3 9 4 8 1 8 1 9 8 4 1 7 8 8 9 0 6\n",
      " 4 0 8 8 7 5 6 5 3 0 4 7 5 3 1 0 1 7 1 0 3 3 3 3 8 8 9 1 6 5 5 1 4 7 3 0 1\n",
      " 6 9 9 8 0 9 1 8 3 5 5 9 1 0 7 4 9 5 4 1 6 7 3 6 3 7 3 5 6 8 4 3 7 8 4 7 3\n",
      " 8 8 9 5 4 6 9 6 1 3 9 4 3 0 3 5 3 1 2 6 0 5 0 9 5 7 4 0 2 8 3 1 7 3 8 6 9\n",
      " 7 6 9 7 0 2 3 3 0 8 8 5 8 6 7 7 8 1 2 9 0 3 9 3 3 0 5 1 1 0 0 5 1 8 4 1 7\n",
      " 2 8 9 5 6 6 7 2 9 0 3 1 0 6 0 3 7 5 5 8 8 3 5 6 1 5 6 1 9 5 5 4 3 5 0 0 2\n",
      " 7 4 6 4 1 6 8 1 5 8 2 7 5 6 5 2 9 1 3 6 1 3 6 9 0 9 5 5 4 9 7 7 0 4 5 7 1\n",
      " 9 3 4 6 1 7 4 7 7 1 8 1 0 9 1 3 6 3 9 4 9 2 2 4 4 6 6 2 9 3 3 5 0 3 2 2 2\n",
      " 1 6 7 9 6 3 6 6 3 0 8 7 6 3 4 8 9 9 0 8 4 7 0 7 2 3 6 5 5 7 8 5 7 9 4 8 1\n",
      " 3 0 8 5 3 0 0 6 7 7 1 7 8 5 4 4 3 8 4 1 1 6 0 1 9 3 1 1 8 8 3 8 9 7 6 2 5\n",
      " 9 6 6 8 9 9 2 7 3 0 6 9 1 6 1 7 1 3 3 6 2 1 2 6 6 5 4 4 1 8 3 9 3 1 1 1 1\n",
      " 5 9 9 9 2 9 9 7 3 1 5 4 1 1 9 5 5 8 1 3 4 9 8 4 5 5 4 8 1 7 9 6 9 7 5 5 1\n",
      " 0 2 9 4 0 3 1 6 6 6 0 2 7 3 9 3 9 9 2 2 8 9 4 5 6 9 2 3 1 9 2 3 2 5 0 3 4\n",
      " 0 6 4 9 0 0 4 7 9 7 5 9 0 8 6 9 0 4 5 1 7 0 9 5 3 8 6 1 7 3 2 6 5 3 3 7 5\n",
      " 6 2 6 5 8 1 3 0 6 2 6 9 8 4 2 7 8 9 4 8 7 8 0 2 3 4 6 7 6 4 1 0 9 5 5 8 5\n",
      " 9 3 3 8 2 9 5 2 0 2 7 1 3 8 7 4 2 6 2 5 7 4 9 7 1 0 2 9 9 1 1 7 2 5 9 0 7\n",
      " 7 2 6 1 9 5 5 8 8 4 8 4 0 8 2 3 9 0 2 9 9 2 1 8 3 4 3 2 3 9 0 6 5 2 2 0 0\n",
      " 4 5 0 1 2 8 9 7 9 0 9 7 6 0 9 4 7 7 7 1 1 1 0 5 8 3 2 0 3 7 4 6 9 3 7 1 3\n",
      " 4 7 0 9 7 1 0 1 2 3 1 2 4 3 9 2 4 7 3 4 2 3 5 0 3 0 6 9 7 8 8 2 2 8 6 5 1\n",
      " 5 7 6 9 3 8 6 5 1 6 5 1 9 0 7 6 7 1 4 0 1 9 9 5 4 7 7 2 5 6 2 2 3 6 2 2 8\n",
      " 7 6 6 1 2 0 7 5 0 0 1 9 9 9 8 7 5 7 1 4 2 3 3 0 8 5 9 6 7 9 1 3 6 0 3 7 4\n",
      " 9 9 0 9 1 4 2 3 4 8 1 3 1 4 5 2 3 4 0 9 1 2 9 3 2 9 0 8 6 3 8 1 8 5 7 8 6\n",
      " 6 3 6 3 3 9 1 2 3 3 7 9 5 9 6 0 8 3 4 0 1 0 4 7 8 8 2 9 0 8 6 6 8 1 6 8 3\n",
      " 1 1 9 5 7 2 0 9 0 5 6 0 0 7 0 6 6 7 3 1 0 2 5 3 0 1 8 0 1 2 1 4 8 4 9 0 0\n",
      " 4 0 5 5 3 2 6 4 4 9 5 6 6 1 1 6 8 6 1 9 7 8 3 7 4 8 1 6 5 4 8 7 0 3 7 5 1\n",
      " 7 6 1 2 4 6 7 1 4 1 5 5 2 6 0 8 6 6 0 8 0 6 8 5 8 0 9 6 3 4 0 1 4 3 7 1 5\n",
      " 6 4 5 0 8 2 3 3 9 1 8 3 1 1 3 7 3 0 1 6 1 9 1 5 8 5 3 0 6 4 3 8 6 9 5 5 2\n",
      " 0]\n"
     ]
    },
    {
     "data": {
      "text/plain": [
       "0.9"
      ]
     },
     "execution_count": 279,
     "metadata": {},
     "output_type": "execute_result"
    }
   ],
   "source": [
    "dev_predictions = make_predictions(X_dev, W1, b1, W2, b2)\n",
    "get_accuracy(dev_predictions, Y_dev)"
   ]
  },
  {
   "cell_type": "code",
   "execution_count": 280,
   "id": "888918f2-bdd9-44dc-b73a-4d1c07198478",
   "metadata": {},
   "outputs": [
    {
     "data": {
      "image/png": "[encoded data removed]",
      "text/plain": [
       "<Figure size 640x480 with 1 Axes>"
      ]
     },
     "metadata": {},
     "output_type": "display_data"
    }
   ],
   "source": [
    "imag = Image.open('test3.jpg')\n",
    "img = cv2.imread('test3.jpg')\n",
    "plt.imshow(img)\n",
    "plt.show()"
   ]
  },
  {
   "cell_type": "code",
   "execution_count": 281,
   "id": "b15ef86a-aa8f-4347-92c7-bd74ecc435ca",
   "metadata": {},
   "outputs": [
    {
     "name": "stdout",
     "output_type": "stream",
     "text": [
      "[[[255 255 255]\n",
      "  [255 255 255]\n",
      "  [255 255 255]\n",
      "  ...\n",
      "  [255 255 255]\n",
      "  [255 255 255]\n",
      "  [255 255 255]]\n",
      "\n",
      " [[255 255 255]\n",
      "  [255 255 255]\n",
      "  [255 255 255]\n",
      "  ...\n",
      "  [255 255 255]\n",
      "  [255 255 255]\n",
      "  [255 255 255]]\n",
      "\n",
      " [[255 255 255]\n",
      "  [255 255 255]\n",
      "  [255 255 255]\n",
      "  ...\n",
      "  [255 255 255]\n",
      "  [255 255 255]\n",
      "  [255 255 255]]\n",
      "\n",
      " ...\n",
      "\n",
      " [[255 255 255]\n",
      "  [255 255 255]\n",
      "  [255 255 255]\n",
      "  ...\n",
      "  [255 255 255]\n",
      "  [255 255 255]\n",
      "  [255 255 255]]\n",
      "\n",
      " [[255 255 255]\n",
      "  [255 255 255]\n",
      "  [255 255 255]\n",
      "  ...\n",
      "  [255 255 255]\n",
      "  [255 255 255]\n",
      "  [255 255 255]]\n",
      "\n",
      " [[255 255 255]\n",
      "  [255 255 255]\n",
      "  [255 255 255]\n",
      "  ...\n",
      "  [255 255 255]\n",
      "  [255 255 255]\n",
      "  [255 255 255]]]\n"
     ]
    }
   ],
   "source": [
    "print(img)"
   ]
  },
  {
   "cell_type": "code",
   "execution_count": 282,
   "id": "9eed0f8f-675e-4e42-ad4d-0de2b23d0e04",
   "metadata": {},
   "outputs": [
    {
     "name": "stdout",
     "output_type": "stream",
     "text": [
      "28\n"
     ]
    }
   ],
   "source": [
    "print(len(img))"
   ]
  },
  {
   "cell_type": "code",
   "execution_count": 283,
   "id": "c780b95b-0f06-4b6c-a62d-fb94487cd4b0",
   "metadata": {},
   "outputs": [],
   "source": [
    "testim = np.array([])"
   ]
  },
  {
   "cell_type": "code",
   "execution_count": 284,
   "id": "af6d6a40-5fd6-4127-aee0-3e17db78b05f",
   "metadata": {},
   "outputs": [
    {
     "name": "stdout",
     "output_type": "stream",
     "text": [
      "[]\n"
     ]
    }
   ],
   "source": [
    "print(testim)\n",
    "okk = []"
   ]
  },
  {
   "cell_type": "code",
   "execution_count": 285,
   "id": "bbd126e8-2f9c-4ce0-90db-52f14bc5b711",
   "metadata": {},
   "outputs": [],
   "source": [
    "for i in range(0, 28):\n",
    "    for j in range(0, 28):\n",
    "        if img[i][j][1]>200:\n",
    "            okk.append([0])\n",
    "        else:\n",
    "            okk.append([255-img[i][j][1]])"
   ]
  },
  {
   "cell_type": "code",
   "execution_count": 286,
   "id": "acfa7c1a-0b26-4f32-9a4f-6bb63031ba65",
   "metadata": {},
   "outputs": [
    {
     "name": "stdout",
     "output_type": "stream",
     "text": [
      "784\n"
     ]
    }
   ],
   "source": [
    "print(len(okk))\n",
    "data = np.array(okk)"
   ]
  },
  {
   "cell_type": "code",
   "execution_count": 287,
   "id": "408dec09-eabd-4c70-95e9-2f865c66f899",
   "metadata": {},
   "outputs": [
    {
     "name": "stdout",
     "output_type": "stream",
     "text": [
      "Prediction:  [4]\n",
      "Label:  4\n"
     ]
    },
    {
     "data": {
      "image/png": "[encoded data removed]",
      "text/plain": [
       "<Figure size 640x480 with 1 Axes>"
      ]
     },
     "metadata": {},
     "output_type": "display_data"
    }
   ],
   "source": [
    "current_image = data/255\n",
    "prediction = make_predictions(data/255, W1, b1, W2, b2)\n",
    "label = 4\n",
    "print(\"Prediction: \", prediction)\n",
    "print(\"Label: \", label)\n",
    "current_image = current_image.reshape((28, 28)) * 255\n",
    "plt.imshow(current_image, interpolation='nearest')\n",
    "plt.show()"
   ]
  },
  {
   "cell_type": "code",
   "execution_count": null,
   "id": "dce2dde6-161b-4fea-964a-f30cd3f90113",
   "metadata": {},
   "outputs": [],
   "source": []
  },
  {
   "cell_type": "code",
   "execution_count": null,
   "id": "43ab95ea-0a99-4cc7-986d-bf2c96562d0f",
   "metadata": {},
   "outputs": [],
   "source": []
  }
 ],
 "metadata": {
  "kernelspec": {
   "display_name": "Python 3 (ipykernel)",
   "language": "python",
   "name": "python3"
  },
  "language_info": {
   "codemirror_mode": {
    "name": "ipython",
    "version": 3
   },
   "file_extension": ".py",
   "mimetype": "text/x-python",
   "name": "python",
   "nbconvert_exporter": "python",
   "pygments_lexer": "ipython3",
   "version": "3.11.5"
  }
 },
 "nbformat": 4,
 "nbformat_minor": 5
}
