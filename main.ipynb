{
 "cells": [
  {
   "cell_type": "code",
   "execution_count": 56,
   "id": "dde5424e-70b1-4893-ab00-cb351bc4e5db",
   "metadata": {},
   "outputs": [],
   "source": [
    "import numpy as np\n",
    "import pandas as pd\n",
    "import matplotlib.pyplot as plt\n",
    "\n",
    "data = pd.read_csv(\"digit-recognizer/train.csv\")"
   ]
  },
  {
   "cell_type": "code",
   "execution_count": 57,
   "id": "1aadc0ef-ac35-4d84-a43c-be61cc735306",
   "metadata": {},
   "outputs": [],
   "source": [
    "data = np.array(data)\n",
    "m, n = data.shape\n",
    "np.random.shuffle(data)"
   ]
  },
  {
   "cell_type": "code",
   "execution_count": 58,
   "id": "c538e6ec-370d-40d8-8060-90fe3073a248",
   "metadata": {},
   "outputs": [
    {
     "name": "stdout",
     "output_type": "stream",
     "text": [
      "[[8 0 0 ... 0 0 0]\n",
      " [4 0 0 ... 0 0 0]\n",
      " [7 0 0 ... 0 0 0]\n",
      " ...\n",
      " [5 0 0 ... 0 0 0]\n",
      " [0 0 0 ... 0 0 0]\n",
      " [8 0 0 ... 0 0 0]]\n"
     ]
    }
   ],
   "source": [
    "print(data)"
   ]
  },
  {
   "cell_type": "code",
   "execution_count": 59,
   "id": "ce445be9-75ee-49aa-9109-6e97a07b3822",
   "metadata": {},
   "outputs": [
    {
     "name": "stdout",
     "output_type": "stream",
     "text": [
      "[  7   0   0   0   0   0   0   0   0   0   0   0   0   0   0   0   0   0\n",
      "   0   0   0   0   0   0   0   0   0   0   0   0   0   0   0   0   0   0\n",
      "   0   0   0   0   0   0   0   0   0   0   0   0   0   0   0   0   0   0\n",
      "   0   0   0   0   0   0   0   0   0   0   0   0   0   0   0   0   0   0\n",
      "   0   0   0   0   0   0   0   0   0   0   0   0   0   0   0   0   0   0\n",
      "   0   0   0   0   0   0   0   0   0   0   0   0   0   0   0   0   0   0\n",
      "   0   0   0   0   0   0   0   0   0   0   0   0   0   0   0   0   0   0\n",
      "   0   0   0   0   0   0   0   0   0   0   0   0   0   0   0   0   0   0\n",
      "   0   0   0   0   0   0   0   0   0   0   0   0   0   0   0   0   0   0\n",
      "   0   0   0   0   0   0   0   0   0   0   0   0   0   0   0   0   0   0\n",
      "   0   0   0   0   0   0   0   0   0   0   0   0   0   0   0   0   0   0\n",
      "   0   0   0   0   0   0   0   0   0   0   0   0   0   0   0   0   0   0\n",
      "   0   0   0   0   0   0   0   0   0   0   0   0   0   0   0  19  13   0\n",
      "   0   0   0   0   0   0   0   0   0   0   0   0   0   0   0   0   0   0\n",
      "   0   0   0   0   0   0  92 196 187 169 169 170 169 169 169 169 170 169\n",
      " 169 169 169 170 169 169  75  13   0   0   0   0   0   0   0   0 253 252\n",
      " 252 252 252 253 252 252 252 252 253 252 252 252 252 253 252 252 252 189\n",
      "   0   0   0   0   0   0   0   0  63 178 253 253 253 255 253 253 240 140\n",
      " 255 253 253 190 253 255 253 253 253 112   0   0   0   0   0   0   0   0\n",
      "   0   9  27  27  27  27  27  27  24   0  27  27  27  85 252 253 252 252\n",
      " 179  12   0   0   0   0   0   0   0   0   0   0   0   0   0   0   0   0\n",
      "   0   0   0  19  88 234 252 253 233 164  19   0   0   0   0   0   0   0\n",
      "   0   0   0   0   0   0   0   0   0   0   0   0  29 181 252 252 252  84\n",
      "  56   0   0   0   0   0   0   0   0   0   0   0   0   0   0   0   0   0\n",
      "   0   0   0   0 253 252 252 252 173   0   0   0   0   0   0   0   0   0\n",
      "   0   0   0   0   0   0   0   0   0   0   0  26 207 253 255 253 228  47\n",
      "   0   0   0   0   0   0   0   0   0   0   0   0   0   0   0   0   0   0\n",
      "   0   0  76 231 252 252 215 121  21   0   0   0   0   0   0   0   0   0\n",
      "   0   0   0   0   0   0   0   0   0   0   0  57 200 252 252 220  31   0\n",
      "   0   0   0   0   0   0   0   0   0   0   0   0   0   0   0   0   0   0\n",
      "   0  35 169 253 252 252 217  37   0   0   0   0   0   0   0   0   0   0\n",
      "   0   0   0   0   0   0   0   0   0   0   0 169 252 253 252 252  84   0\n",
      "   0   0   0   0   0   0   0   0   0   0   0   0   0   0   0   0   0   0\n",
      "   0   0   0 170 253 255 253 165  47   0   0   0   0   0   0   0   0   0\n",
      "   0   0   0   0   0   0   0   0   0   0   0   0  32 215 252 215 121   6\n",
      "   0   0   0   0   0   0   0   0   0   0   0   0   0   0   0   0   0   0\n",
      "   0   0   0   0   0  37  55  31   0   0   0   0   0   0   0   0   0   0\n",
      "   0   0   0   0   0   0   0   0   0   0   0   0   0   0   0   0   0   0\n",
      "   0   0   0   0   0   0   0   0   0   0   0   0   0   0   0   0   0   0\n",
      "   0   0   0   0   0   0   0   0   0   0   0   0   0   0   0   0   0   0\n",
      "   0   0   0   0   0   0   0   0   0   0   0   0   0   0   0   0   0   0\n",
      "   0   0   0   0   0   0   0   0   0   0   0   0   0   0   0   0   0   0\n",
      "   0   0   0   0   0   0   0   0   0   0   0   0   0   0   0   0   0   0\n",
      "   0   0   0   0   0   0   0   0   0   0   0]\n"
     ]
    }
   ],
   "source": [
    "print(data[2])"
   ]
  },
  {
   "cell_type": "code",
   "execution_count": 60,
   "id": "80279974-7ea2-46e3-9971-182b931c55ac",
   "metadata": {},
   "outputs": [
    {
     "name": "stdout",
     "output_type": "stream",
     "text": [
      "label= 9\n"
     ]
    },
    {
     "data": {
      "image/png": "[encoded data removed]",
      "text/plain": [
       "<Figure size 640x480 with 1 Axes>"
      ]
     },
     "metadata": {},
     "output_type": "display_data"
    }
   ],
   "source": [
    "image = data[100][1:].reshape((28,28))\n",
    "print(\"label=\", data[100][0])\n",
    "plt.imshow(image, interpolation='nearest')\n",
    "plt.show()"
   ]
  },
  {
   "cell_type": "code",
   "execution_count": 61,
   "id": "4182904f-84b3-47d9-9732-1edb15cc136f",
   "metadata": {},
   "outputs": [
    {
     "name": "stdout",
     "output_type": "stream",
     "text": [
      "(42000, 785)\n"
     ]
    }
   ],
   "source": [
    "print(data.shape)\n",
    "m, n = data.shape"
   ]
  },
  {
   "cell_type": "code",
   "execution_count": 62,
   "id": "6423c915-5a13-4d5d-b73f-ea6b24287c57",
   "metadata": {},
   "outputs": [
    {
     "name": "stdout",
     "output_type": "stream",
     "text": [
      "[[8 4 7 ... 9 6 0]\n",
      " [0 0 0 ... 0 0 0]\n",
      " [0 0 0 ... 0 0 0]\n",
      " ...\n",
      " [0 0 0 ... 0 0 0]\n",
      " [0 0 0 ... 0 0 0]\n",
      " [0 0 0 ... 0 0 0]]\n"
     ]
    }
   ],
   "source": [
    "data_dev = data[0:1000].T\n",
    "print(data_dev)"
   ]
  },
  {
   "cell_type": "code",
   "execution_count": 63,
   "id": "682480ca-715d-4821-bac6-8b03fac82bc4",
   "metadata": {},
   "outputs": [
    {
     "name": "stdout",
     "output_type": "stream",
     "text": [
      "[8 4 7 9 1 7 7 4 5 7 9 2 1 9 2 2 8 0 6 9 4 8 6 6 0 0 9 7 9 1 3 3 0 9 6 2 1\n",
      " 4 0 7 1 8 2 0 3 6 3 6 2 9 2 5 3 4 0 2 7 0 1 9 1 3 9 9 6 0 3 2 9 7 9 6 8 3\n",
      " 8 5 1 7 8 5 4 2 0 2 4 7 5 1 3 7 4 3 3 4 6 1 3 1 3 8 9 2 7 1 2 3 5 9 6 9 4\n",
      " 8 1 9 4 0 2 0 4 6 6 9 7 1 9 8 2 7 9 2 2 3 9 2 8 2 2 2 7 7 6 3 7 3 1 2 5 8\n",
      " 0 8 1 1 5 2 0 9 8 4 1 2 3 0 9 5 2 2 3 3 8 5 9 7 9 4 6 2 9 7 9 7 8 2 4 3 9\n",
      " 7 2 6 6 7 9 1 0 8 9 1 3 4 4 1 3 6 5 9 5 8 5 6 0 4 1 3 4 2 9 4 3 1 7 2 7 8\n",
      " 0 4 4 1 4 3 6 1 3 4 2 6 7 7 2 4 2 6 3 3 1 8 8 7 4 5 1 5 4 3 6 3 2 7 5 5 7\n",
      " 7 9 6 2 7 2 0 3 2 5 4 6 0 7 5 8 6 1 4 6 5 9 3 4 3 1 3 9 0 8 5 2 0 6 2 8 6\n",
      " 6 3 9 1 8 4 6 1 4 3 7 4 0 7 2 2 9 3 8 4 7 7 7 3 3 9 2 1 6 6 5 7 9 7 2 8 6\n",
      " 1 6 6 3 1 4 8 1 5 9 4 1 2 3 9 5 7 6 6 9 9 5 2 6 5 9 8 8 3 1 6 2 2 6 5 2 3\n",
      " 4 9 8 6 1 7 7 6 7 4 8 6 1 3 6 8 2 1 7 1 1 1 8 3 0 0 6 1 1 1 3 1 5 7 5 3 3\n",
      " 4 1 3 9 0 1 8 5 3 4 2 7 7 1 8 3 1 5 6 4 6 8 0 1 9 9 7 3 9 3 0 3 4 3 1 1 0\n",
      " 9 1 9 0 1 9 9 8 5 0 2 8 5 4 8 4 0 0 9 0 3 0 5 5 2 7 5 6 2 7 4 6 8 0 0 7 3\n",
      " 5 9 0 2 2 4 9 9 3 2 7 4 4 9 9 4 0 4 3 0 9 6 7 9 2 6 0 0 8 8 9 7 0 3 3 4 1\n",
      " 2 0 0 2 5 7 2 5 2 6 1 1 8 4 6 7 0 3 3 8 1 4 5 6 3 6 7 8 2 2 9 3 3 1 0 5 9\n",
      " 9 5 4 2 2 9 0 8 1 2 3 0 3 3 9 8 7 7 3 4 1 3 6 5 1 8 4 0 6 2 5 0 6 1 0 1 4\n",
      " 7 2 2 2 3 5 0 4 6 6 9 2 9 2 0 4 4 3 6 6 4 5 2 4 1 4 4 1 6 4 0 3 4 2 4 6 5\n",
      " 1 3 7 0 4 8 4 0 4 0 5 1 6 0 5 9 9 6 3 4 2 0 0 1 1 0 2 8 1 0 9 1 2 8 3 9 2\n",
      " 4 1 4 6 7 4 4 4 6 4 2 6 7 8 6 8 5 0 8 3 2 8 9 9 0 3 7 4 6 7 0 6 7 1 4 5 2\n",
      " 7 7 7 4 8 8 6 8 3 2 2 4 2 5 6 5 3 4 0 3 6 8 9 1 9 5 4 7 6 2 3 2 9 2 5 3 3\n",
      " 4 3 0 9 3 8 5 1 1 3 9 1 0 8 3 3 5 1 7 0 1 7 0 5 2 1 9 8 9 1 4 9 0 5 3 5 2\n",
      " 7 1 7 8 9 3 1 9 7 1 9 1 6 9 3 9 2 8 9 1 3 9 7 6 2 7 8 6 4 8 5 6 7 7 6 7 6\n",
      " 5 8 2 1 2 8 0 3 8 5 3 8 2 1 7 9 4 1 3 3 8 2 8 3 7 0 4 0 9 0 3 7 0 8 5 9 7\n",
      " 7 2 7 8 2 2 9 1 6 5 2 0 8 2 1 7 4 3 0 0 1 7 5 6 8 9 1 9 1 3 8 3 4 0 0 2 1\n",
      " 0 4 2 6 0 5 9 9 2 8 3 8 5 9 0 9 9 2 8 5 8 8 2 7 8 6 2 9 1 7 8 0 8 5 0 6 6\n",
      " 8 7 4 9 9 4 5 1 6 8 9 0 3 8 4 9 8 1 5 2 9 1 2 8 7 5 1 1 3 4 7 0 9 0 6 5 1\n",
      " 3 0 6 0 8 1 1 0 0 3 1 3 5 6 1 7 6 7 5 0 1 6 7 3 1 4 2 7 2 3 7 7 7 3 4 9 6\n",
      " 0]\n"
     ]
    }
   ],
   "source": [
    "Y_dev = data_dev[0]\n",
    "print(Y_dev)"
   ]
  },
  {
   "cell_type": "code",
   "execution_count": 64,
   "id": "e5c4bcc7-ec52-4cd7-8516-261ecce9f54e",
   "metadata": {},
   "outputs": [
    {
     "name": "stdout",
     "output_type": "stream",
     "text": [
      "[[0 0 0 ... 0 0 0]\n",
      " [0 0 0 ... 0 0 0]\n",
      " [0 0 0 ... 0 0 0]\n",
      " ...\n",
      " [0 0 0 ... 0 0 0]\n",
      " [0 0 0 ... 0 0 0]\n",
      " [0 0 0 ... 0 0 0]]\n"
     ]
    }
   ],
   "source": [
    "X_dev = data_dev[1:n]\n",
    "print(X_dev)"
   ]
  },
  {
   "cell_type": "code",
   "execution_count": 65,
   "id": "990129c7-829e-4e3d-a820-d533ccaf8187",
   "metadata": {},
   "outputs": [],
   "source": [
    "X_dev = X_dev / 255."
   ]
  },
  {
   "cell_type": "code",
   "execution_count": 66,
   "id": "36ac6bf8-84bf-423a-8bee-734025c92deb",
   "metadata": {},
   "outputs": [],
   "source": [
    "data_train = data[1000:m].T\n",
    "Y_train = data_train[0]\n",
    "X_train = data_train[1:n]\n",
    "X_train = X_train / 255."
   ]
  },
  {
   "cell_type": "code",
   "execution_count": 67,
   "id": "f1c21476-7498-4030-822b-164597c8ffe3",
   "metadata": {},
   "outputs": [],
   "source": [
    "_,m_train = X_train.shape"
   ]
  },
  {
   "cell_type": "code",
   "execution_count": 68,
   "id": "d1d4602f-33d6-4d9a-a61c-5a27c8b1c69b",
   "metadata": {},
   "outputs": [],
   "source": [
    "def init_params():\n",
    "    W1 = np.random.rand(10, 784) - 0.5\n",
    "    b1 = np.random.rand(10, 1) - 0.5\n",
    "    W2 = np.random.rand(10, 10) - 0.5\n",
    "    b2 = np.random.rand(10, 1) - 0.5\n",
    "    return W1, b1, W2, b2\n",
    "\n",
    "def ReLU(Z):\n",
    "    return np.maximum(Z, 0)\n",
    "\n",
    "def softmax(Z):\n",
    "    A = np.exp(Z) / sum(np.exp(Z))\n",
    "    return A\n",
    "\n",
    "def forward_prop(W1, b1, W2, b2, X):\n",
    "    Z1 = W1.dot(X) + b1\n",
    "    A1 = ReLU(Z1)\n",
    "    Z2 = W2.dot(A1) + b2\n",
    "    A2 = softmax(Z2)\n",
    "    return Z1, A1, Z2, A2\n",
    "\n",
    "def ReLU_deriv(Z):\n",
    "    return Z > 0\n",
    "\n",
    "def one_hot(Y):\n",
    "    one_hot_Y = np.zeros((Y.size, Y.max() + 1))\n",
    "    one_hot_Y[np.arange(Y.size), Y] = 1\n",
    "    one_hot_Y = one_hot_Y.T\n",
    "    return one_hot_Y\n",
    "\n",
    "def backward_prop(Z1, A1, Z2, A2, W1, W2, X, Y):\n",
    "    one_hot_Y = one_hot(Y)\n",
    "    dZ2 = A2 - one_hot_Y\n",
    "    dW2 = 1 / m * dZ2.dot(A1.T)\n",
    "    db2 = 1 / m * np.sum(dZ2)\n",
    "    dZ1 = W2.T.dot(dZ2) * ReLU_deriv(Z1)\n",
    "    dW1 = 1 / m * dZ1.dot(X.T)\n",
    "    db1 = 1 / m * np.sum(dZ1)\n",
    "    return dW1, db1, dW2, db2\n",
    "\n",
    "def update_params(W1, b1, W2, b2, dW1, db1, dW2, db2, alpha):\n",
    "    W1 = W1 - alpha * dW1\n",
    "    b1 = b1 - alpha * db1    \n",
    "    W2 = W2 - alpha * dW2  \n",
    "    b2 = b2 - alpha * db2    \n",
    "    return W1, b1, W2, b2\n",
    "\n"
   ]
  },
  {
   "cell_type": "code",
   "execution_count": 69,
   "id": "de5f8cad-86a5-4764-9e45-d047602d842c",
   "metadata": {},
   "outputs": [],
   "source": [
    "def get_predictions(A2):\n",
    "    return np.argmax(A2, 0)\n",
    "\n",
    "def get_accuracy(predictions, Y):\n",
    "    print(predictions, Y)\n",
    "    return np.sum(predictions == Y) / Y.size\n",
    "\n",
    "def gradient_descent(X, Y, alpha, iterations):\n",
    "    W1, b1, W2, b2 = init_params()\n",
    "    for i in range(iterations):\n",
    "        Z1, A1, Z2, A2 = forward_prop(W1, b1, W2, b2, X)\n",
    "        dW1, db1, dW2, db2 = backward_prop(Z1, A1, Z2, A2, W1, W2, X, Y)\n",
    "        W1, b1, W2, b2 = update_params(W1, b1, W2, b2, dW1, db1, dW2, db2, alpha)\n",
    "        if i % 10 == 0:\n",
    "            print(\"Iteration: \", i)\n",
    "            predictions = get_predictions(A2)\n",
    "            print(get_accuracy(predictions, Y))\n",
    "    return W1, b1, W2, b2"
   ]
  },
  {
   "cell_type": "code",
   "execution_count": 70,
   "id": "be650531-4c16-4742-8de3-8219c79320ed",
   "metadata": {},
   "outputs": [
    {
     "name": "stdout",
     "output_type": "stream",
     "text": [
      "Iteration:  0\n",
      "[9 7 7 ... 7 0 7] [0 0 7 ... 5 0 8]\n",
      "0.09636585365853659\n",
      "Iteration:  10\n",
      "[1 5 7 ... 7 0 5] [0 0 7 ... 5 0 8]\n",
      "0.18258536585365853\n",
      "Iteration:  20\n",
      "[0 5 7 ... 1 0 5] [0 0 7 ... 5 0 8]\n",
      "0.25597560975609757\n",
      "Iteration:  30\n",
      "[0 0 7 ... 5 0 2] [0 0 7 ... 5 0 8]\n",
      "0.30241463414634145\n",
      "Iteration:  40\n",
      "[0 0 7 ... 5 0 2] [0 0 7 ... 5 0 8]\n",
      "0.35092682926829266\n",
      "Iteration:  50\n",
      "[0 0 7 ... 5 0 2] [0 0 7 ... 5 0 8]\n",
      "0.4038048780487805\n",
      "Iteration:  60\n",
      "[0 0 7 ... 5 0 2] [0 0 7 ... 5 0 8]\n",
      "0.43802439024390244\n",
      "Iteration:  70\n",
      "[0 0 7 ... 5 0 2] [0 0 7 ... 5 0 8]\n",
      "0.4591707317073171\n",
      "Iteration:  80\n",
      "[0 0 7 ... 5 0 2] [0 0 7 ... 5 0 8]\n",
      "0.47853658536585364\n",
      "Iteration:  90\n",
      "[0 0 7 ... 5 0 8] [0 0 7 ... 5 0 8]\n",
      "0.4967560975609756\n",
      "Iteration:  100\n",
      "[0 0 7 ... 5 0 8] [0 0 7 ... 5 0 8]\n",
      "0.517609756097561\n",
      "Iteration:  110\n",
      "[0 0 7 ... 5 0 8] [0 0 7 ... 5 0 8]\n",
      "0.5398780487804878\n",
      "Iteration:  120\n",
      "[0 0 7 ... 5 0 8] [0 0 7 ... 5 0 8]\n",
      "0.5679512195121951\n",
      "Iteration:  130\n",
      "[0 0 7 ... 5 0 8] [0 0 7 ... 5 0 8]\n",
      "0.5910975609756097\n",
      "Iteration:  140\n",
      "[0 0 7 ... 5 0 8] [0 0 7 ... 5 0 8]\n",
      "0.6103170731707317\n",
      "Iteration:  150\n",
      "[0 0 7 ... 5 0 8] [0 0 7 ... 5 0 8]\n",
      "0.6272682926829268\n",
      "Iteration:  160\n",
      "[0 0 7 ... 5 0 8] [0 0 7 ... 5 0 8]\n",
      "0.6422439024390244\n",
      "Iteration:  170\n",
      "[0 0 7 ... 5 0 8] [0 0 7 ... 5 0 8]\n",
      "0.6566341463414634\n",
      "Iteration:  180\n",
      "[0 0 7 ... 5 0 8] [0 0 7 ... 5 0 8]\n",
      "0.6687804878048781\n",
      "Iteration:  190\n",
      "[0 0 7 ... 5 0 8] [0 0 7 ... 5 0 8]\n",
      "0.6809024390243903\n",
      "Iteration:  200\n",
      "[0 0 7 ... 5 0 8] [0 0 7 ... 5 0 8]\n",
      "0.6916097560975609\n",
      "Iteration:  210\n",
      "[0 0 7 ... 5 0 8] [0 0 7 ... 5 0 8]\n",
      "0.7009024390243902\n",
      "Iteration:  220\n",
      "[0 0 7 ... 5 0 8] [0 0 7 ... 5 0 8]\n",
      "0.7100975609756097\n",
      "Iteration:  230\n",
      "[0 0 7 ... 5 0 8] [0 0 7 ... 5 0 8]\n",
      "0.7188048780487805\n",
      "Iteration:  240\n",
      "[0 0 7 ... 5 0 8] [0 0 7 ... 5 0 8]\n",
      "0.726\n",
      "Iteration:  250\n",
      "[0 0 7 ... 5 0 8] [0 0 7 ... 5 0 8]\n",
      "0.7333170731707317\n",
      "Iteration:  260\n",
      "[0 0 7 ... 5 0 8] [0 0 7 ... 5 0 8]\n",
      "0.7407560975609756\n",
      "Iteration:  270\n",
      "[0 0 7 ... 5 0 8] [0 0 7 ... 5 0 8]\n",
      "0.7472926829268293\n",
      "Iteration:  280\n",
      "[0 0 7 ... 5 0 8] [0 0 7 ... 5 0 8]\n",
      "0.7531463414634146\n",
      "Iteration:  290\n",
      "[0 0 7 ... 5 0 8] [0 0 7 ... 5 0 8]\n",
      "0.7591707317073171\n",
      "Iteration:  300\n",
      "[0 0 7 ... 5 0 8] [0 0 7 ... 5 0 8]\n",
      "0.7653658536585366\n",
      "Iteration:  310\n",
      "[0 0 7 ... 5 0 8] [0 0 7 ... 5 0 8]\n",
      "0.7700975609756098\n",
      "Iteration:  320\n",
      "[0 0 7 ... 5 0 8] [0 0 7 ... 5 0 8]\n",
      "0.7753170731707317\n",
      "Iteration:  330\n",
      "[0 0 7 ... 5 0 8] [0 0 7 ... 5 0 8]\n",
      "0.779609756097561\n",
      "Iteration:  340\n",
      "[0 0 7 ... 5 0 8] [0 0 7 ... 5 0 8]\n",
      "0.7834634146341464\n",
      "Iteration:  350\n",
      "[0 0 7 ... 5 0 8] [0 0 7 ... 5 0 8]\n",
      "0.7872439024390244\n",
      "Iteration:  360\n",
      "[0 0 7 ... 5 0 8] [0 0 7 ... 5 0 8]\n",
      "0.7907560975609756\n",
      "Iteration:  370\n",
      "[0 0 7 ... 5 0 8] [0 0 7 ... 5 0 8]\n",
      "0.7943170731707317\n",
      "Iteration:  380\n",
      "[0 0 7 ... 5 0 8] [0 0 7 ... 5 0 8]\n",
      "0.7976585365853659\n",
      "Iteration:  390\n",
      "[0 0 7 ... 5 0 8] [0 0 7 ... 5 0 8]\n",
      "0.800439024390244\n",
      "Iteration:  400\n",
      "[0 0 7 ... 5 0 8] [0 0 7 ... 5 0 8]\n",
      "0.8032682926829269\n",
      "Iteration:  410\n",
      "[0 0 7 ... 5 0 8] [0 0 7 ... 5 0 8]\n",
      "0.807219512195122\n",
      "Iteration:  420\n",
      "[0 0 7 ... 5 0 8] [0 0 7 ... 5 0 8]\n",
      "0.8102439024390244\n",
      "Iteration:  430\n",
      "[0 0 7 ... 5 0 8] [0 0 7 ... 5 0 8]\n",
      "0.8125853658536585\n",
      "Iteration:  440\n",
      "[0 0 7 ... 5 0 8] [0 0 7 ... 5 0 8]\n",
      "0.8146585365853658\n",
      "Iteration:  450\n",
      "[0 0 7 ... 5 0 8] [0 0 7 ... 5 0 8]\n",
      "0.8169756097560975\n",
      "Iteration:  460\n",
      "[0 0 7 ... 5 0 8] [0 0 7 ... 5 0 8]\n",
      "0.8192439024390243\n",
      "Iteration:  470\n",
      "[0 0 7 ... 5 0 8] [0 0 7 ... 5 0 8]\n",
      "0.8214146341463414\n",
      "Iteration:  480\n",
      "[0 0 7 ... 5 0 8] [0 0 7 ... 5 0 8]\n",
      "0.8231951219512195\n",
      "Iteration:  490\n",
      "[0 0 7 ... 5 0 8] [0 0 7 ... 5 0 8]\n",
      "0.8250487804878048\n"
     ]
    }
   ],
   "source": [
    "W1, b1, W2, b2 = gradient_descent(X_train, Y_train, 0.10, 500)"
   ]
  },
  {
   "cell_type": "code",
   "execution_count": 71,
   "id": "c7acb4dc-22c3-4f25-968f-b1008b0bbfd0",
   "metadata": {},
   "outputs": [],
   "source": [
    "def make_predictions(X, W1, b1, W2, b2):\n",
    "    _, _, _, A2 = forward_prop(W1, b1, W2, b2, X)\n",
    "    predictions = get_predictions(A2)\n",
    "    return predictions\n",
    "\n",
    "def test_prediction(index, W1, b1, W2, b2):\n",
    "    current_image = X_train[:, index, None]\n",
    "    prediction = make_predictions(X_train[:, index, None], W1, b1, W2, b2)\n",
    "    label = Y_train[index]\n",
    "    print(\"Prediction: \", prediction)\n",
    "    print(\"Label: \", label)\n",
    "    current_image = current_image.reshape((28, 28)) * 255\n",
    "    plt.imshow(current_image, interpolation='nearest')\n",
    "    plt.show()"
   ]
  },
  {
   "cell_type": "code",
   "execution_count": 72,
   "id": "efe5edb8-752f-4f4b-bdc0-c1af308d0e6c",
   "metadata": {},
   "outputs": [
    {
     "name": "stdout",
     "output_type": "stream",
     "text": [
      "Prediction:  [7]\n",
      "Label:  7\n"
     ]
    },
    {
     "data": {
      "image/png": "[encoded data removed]",
      "text/plain": [
       "<Figure size 640x480 with 1 Axes>"
      ]
     },
     "metadata": {},
     "output_type": "display_data"
    },
    {
     "name": "stdout",
     "output_type": "stream",
     "text": [
      "Prediction:  [6]\n",
      "Label:  6\n"
     ]
    },
    {
     "data": {
      "image/png": "[encoded data removed]",
      "text/plain": [
       "<Figure size 640x480 with 1 Axes>"
      ]
     },
     "metadata": {},
     "output_type": "display_data"
    },
    {
     "name": "stdout",
     "output_type": "stream",
     "text": [
      "Prediction:  [3]\n",
      "Label:  3\n"
     ]
    },
    {
     "data": {
      "image/png": "[encoded data removed]",
      "text/plain": [
       "<Figure size 640x480 with 1 Axes>"
      ]
     },
     "metadata": {},
     "output_type": "display_data"
    },
    {
     "name": "stdout",
     "output_type": "stream",
     "text": [
      "Prediction:  [0]\n",
      "Label:  0\n"
     ]
    },
    {
     "data": {
      "image/png": "[encoded data removed]",
      "text/plain": [
       "<Figure size 640x480 with 1 Axes>"
      ]
     },
     "metadata": {},
     "output_type": "display_data"
    }
   ],
   "source": [
    "test_prediction(7, W1, b1, W2, b2)\n",
    "test_prediction(9, W1, b1, W2, b2)\n",
    "test_prediction(89, W1, b1, W2, b2)\n",
    "test_prediction(24, W1, b1, W2, b2)"
   ]
  },
  {
   "cell_type": "code",
   "execution_count": 73,
   "id": "44ae50cf-73f0-4481-900b-45ff6885a6a1",
   "metadata": {},
   "outputs": [
    {
     "name": "stdout",
     "output_type": "stream",
     "text": [
      "[8 4 7 9 1 7 7 9 5 7 9 8 1 9 2 2 8 0 6 7 4 3 6 6 0 0 9 7 9 1 3 3 0 4 6 2 1\n",
      " 4 4 7 8 9 2 0 3 6 3 6 2 9 2 5 3 4 0 2 7 0 1 9 1 3 9 9 6 0 8 2 1 7 9 6 8 3\n",
      " 5 5 1 7 2 8 4 2 0 6 4 7 5 1 8 7 4 3 3 4 6 2 3 1 3 8 9 2 7 1 2 3 5 9 6 7 7\n",
      " 5 1 1 4 0 2 0 4 6 6 9 7 1 9 8 2 7 9 2 2 9 9 2 8 2 2 2 7 7 6 8 7 3 1 8 0 8\n",
      " 0 8 1 1 5 6 0 9 8 4 1 2 3 0 3 5 2 2 3 3 8 5 9 9 9 4 6 7 9 7 7 7 8 2 9 3 9\n",
      " 7 4 6 6 7 4 1 0 8 9 1 5 4 4 1 3 6 5 7 3 8 8 6 0 4 1 9 4 0 9 4 3 1 7 2 7 8\n",
      " 0 4 4 1 4 3 6 1 5 4 2 6 7 7 2 4 2 6 3 8 1 8 8 7 4 8 1 8 4 3 6 3 2 7 5 5 7\n",
      " 7 9 6 3 7 2 0 3 2 0 4 6 0 7 5 8 6 1 4 6 3 9 3 4 5 1 3 9 0 8 3 6 0 6 2 2 6\n",
      " 6 3 9 1 8 4 6 8 4 3 7 2 0 7 2 2 9 3 8 4 7 7 7 3 8 9 2 1 6 6 6 7 9 2 2 1 6\n",
      " 1 6 6 3 1 4 8 1 5 9 4 1 2 3 9 8 7 6 6 9 9 6 2 6 5 9 8 3 3 1 6 2 2 6 5 2 3\n",
      " 4 9 8 6 1 7 7 6 7 4 8 6 1 2 6 8 2 1 7 1 1 1 3 9 0 0 0 1 1 1 3 1 5 7 5 3 3\n",
      " 4 1 3 9 0 8 8 5 3 4 2 7 7 1 8 2 1 1 6 9 6 3 0 1 9 9 7 4 9 3 0 3 4 5 1 1 0\n",
      " 9 1 9 0 1 9 9 5 5 0 2 5 5 4 8 6 0 0 5 7 3 0 5 5 2 7 5 6 2 7 4 6 8 0 0 7 3\n",
      " 3 9 0 2 2 4 9 9 0 4 7 4 4 4 9 3 0 4 3 0 4 6 7 7 2 2 0 0 8 8 4 7 0 6 3 9 1\n",
      " 2 0 0 2 5 7 2 3 2 6 1 1 1 4 8 7 0 3 3 8 1 9 3 6 3 6 7 6 2 2 9 5 2 1 0 2 0\n",
      " 9 5 4 2 2 7 0 5 1 2 3 0 8 3 7 8 7 7 3 4 8 3 6 5 8 1 4 0 6 8 5 0 6 1 0 1 4\n",
      " 7 2 2 4 3 4 0 4 6 6 9 4 9 2 0 6 4 0 6 6 4 2 2 4 1 9 9 1 6 4 0 3 4 2 4 6 1\n",
      " 1 3 9 0 4 8 4 0 4 0 5 8 6 0 5 9 4 6 3 4 2 0 0 1 1 0 6 8 1 0 9 1 2 8 3 9 2\n",
      " 4 1 4 6 7 4 4 4 6 4 2 4 7 8 6 3 5 0 8 3 0 8 9 9 0 3 7 4 6 7 0 6 7 1 4 5 1\n",
      " 7 7 7 4 8 8 6 8 3 2 2 4 2 6 6 0 3 4 0 3 6 8 9 1 9 5 4 7 6 2 3 2 9 3 5 3 3\n",
      " 4 3 0 7 8 8 5 1 1 6 9 1 0 8 8 3 5 1 7 0 1 7 0 0 8 1 4 8 4 1 4 7 0 5 3 5 2\n",
      " 9 1 2 8 9 3 1 8 7 1 9 1 6 9 2 9 2 5 9 1 3 5 7 6 2 3 8 6 4 5 1 6 7 2 6 4 6\n",
      " 9 8 2 1 2 8 0 3 8 0 3 8 2 1 7 9 4 1 3 3 3 2 4 3 7 0 4 0 9 0 8 9 0 3 5 9 7\n",
      " 7 2 7 8 2 2 9 1 6 5 2 2 3 2 1 7 4 3 6 0 1 9 5 6 5 9 1 9 1 3 8 3 4 0 0 2 1\n",
      " 0 6 6 6 0 5 7 9 2 8 5 8 5 9 0 9 8 2 8 5 3 8 2 7 0 6 2 7 1 7 8 0 8 5 0 6 6\n",
      " 8 7 4 9 4 4 9 1 6 5 4 0 3 8 4 9 9 1 3 2 9 1 4 5 1 5 1 1 3 4 7 0 9 0 6 0 1\n",
      " 3 0 6 0 8 1 1 0 0 3 1 9 5 6 1 7 6 7 5 0 1 6 1 3 1 9 2 7 2 3 9 9 7 3 4 9 6\n",
      " 0] [8 4 7 9 1 7 7 4 5 7 9 2 1 9 2 2 8 0 6 9 4 8 6 6 0 0 9 7 9 1 3 3 0 9 6 2 1\n",
      " 4 0 7 1 8 2 0 3 6 3 6 2 9 2 5 3 4 0 2 7 0 1 9 1 3 9 9 6 0 3 2 9 7 9 6 8 3\n",
      " 8 5 1 7 8 5 4 2 0 2 4 7 5 1 3 7 4 3 3 4 6 1 3 1 3 8 9 2 7 1 2 3 5 9 6 9 4\n",
      " 8 1 9 4 0 2 0 4 6 6 9 7 1 9 8 2 7 9 2 2 3 9 2 8 2 2 2 7 7 6 3 7 3 1 2 5 8\n",
      " 0 8 1 1 5 2 0 9 8 4 1 2 3 0 9 5 2 2 3 3 8 5 9 7 9 4 6 2 9 7 9 7 8 2 4 3 9\n",
      " 7 2 6 6 7 9 1 0 8 9 1 3 4 4 1 3 6 5 9 5 8 5 6 0 4 1 3 4 2 9 4 3 1 7 2 7 8\n",
      " 0 4 4 1 4 3 6 1 3 4 2 6 7 7 2 4 2 6 3 3 1 8 8 7 4 5 1 5 4 3 6 3 2 7 5 5 7\n",
      " 7 9 6 2 7 2 0 3 2 5 4 6 0 7 5 8 6 1 4 6 5 9 3 4 3 1 3 9 0 8 5 2 0 6 2 8 6\n",
      " 6 3 9 1 8 4 6 1 4 3 7 4 0 7 2 2 9 3 8 4 7 7 7 3 3 9 2 1 6 6 5 7 9 7 2 8 6\n",
      " 1 6 6 3 1 4 8 1 5 9 4 1 2 3 9 5 7 6 6 9 9 5 2 6 5 9 8 8 3 1 6 2 2 6 5 2 3\n",
      " 4 9 8 6 1 7 7 6 7 4 8 6 1 3 6 8 2 1 7 1 1 1 8 3 0 0 6 1 1 1 3 1 5 7 5 3 3\n",
      " 4 1 3 9 0 1 8 5 3 4 2 7 7 1 8 3 1 5 6 4 6 8 0 1 9 9 7 3 9 3 0 3 4 3 1 1 0\n",
      " 9 1 9 0 1 9 9 8 5 0 2 8 5 4 8 4 0 0 9 0 3 0 5 5 2 7 5 6 2 7 4 6 8 0 0 7 3\n",
      " 5 9 0 2 2 4 9 9 3 2 7 4 4 9 9 4 0 4 3 0 9 6 7 9 2 6 0 0 8 8 9 7 0 3 3 4 1\n",
      " 2 0 0 2 5 7 2 5 2 6 1 1 8 4 6 7 0 3 3 8 1 4 5 6 3 6 7 8 2 2 9 3 3 1 0 5 9\n",
      " 9 5 4 2 2 9 0 8 1 2 3 0 3 3 9 8 7 7 3 4 1 3 6 5 1 8 4 0 6 2 5 0 6 1 0 1 4\n",
      " 7 2 2 2 3 5 0 4 6 6 9 2 9 2 0 4 4 3 6 6 4 5 2 4 1 4 4 1 6 4 0 3 4 2 4 6 5\n",
      " 1 3 7 0 4 8 4 0 4 0 5 1 6 0 5 9 9 6 3 4 2 0 0 1 1 0 2 8 1 0 9 1 2 8 3 9 2\n",
      " 4 1 4 6 7 4 4 4 6 4 2 6 7 8 6 8 5 0 8 3 2 8 9 9 0 3 7 4 6 7 0 6 7 1 4 5 2\n",
      " 7 7 7 4 8 8 6 8 3 2 2 4 2 5 6 5 3 4 0 3 6 8 9 1 9 5 4 7 6 2 3 2 9 2 5 3 3\n",
      " 4 3 0 9 3 8 5 1 1 3 9 1 0 8 3 3 5 1 7 0 1 7 0 5 2 1 9 8 9 1 4 9 0 5 3 5 2\n",
      " 7 1 7 8 9 3 1 9 7 1 9 1 6 9 3 9 2 8 9 1 3 9 7 6 2 7 8 6 4 8 5 6 7 7 6 7 6\n",
      " 5 8 2 1 2 8 0 3 8 5 3 8 2 1 7 9 4 1 3 3 8 2 8 3 7 0 4 0 9 0 3 7 0 8 5 9 7\n",
      " 7 2 7 8 2 2 9 1 6 5 2 0 8 2 1 7 4 3 0 0 1 7 5 6 8 9 1 9 1 3 8 3 4 0 0 2 1\n",
      " 0 4 2 6 0 5 9 9 2 8 3 8 5 9 0 9 9 2 8 5 8 8 2 7 8 6 2 9 1 7 8 0 8 5 0 6 6\n",
      " 8 7 4 9 9 4 5 1 6 8 9 0 3 8 4 9 8 1 5 2 9 1 2 8 7 5 1 1 3 4 7 0 9 0 6 5 1\n",
      " 3 0 6 0 8 1 1 0 0 3 1 3 5 6 1 7 6 7 5 0 1 6 7 3 1 4 2 7 2 3 7 7 7 3 4 9 6\n",
      " 0]\n"
     ]
    },
    {
     "data": {
      "text/plain": [
       "0.822"
      ]
     },
     "execution_count": 73,
     "metadata": {},
     "output_type": "execute_result"
    }
   ],
   "source": [
    "dev_predictions = make_predictions(X_dev, W1, b1, W2, b2)\n",
    "get_accuracy(dev_predictions, Y_dev)"
   ]
  },
  {
   "cell_type": "code",
   "execution_count": null,
   "id": "22b14cbc-c1ba-43fb-bfee-d1b382d4f90c",
   "metadata": {},
   "outputs": [],
   "source": []
  }
 ],
 "metadata": {
  "kernelspec": {
   "display_name": "Python 3 (ipykernel)",
   "language": "python",
   "name": "python3"
  },
  "language_info": {
   "codemirror_mode": {
    "name": "ipython",
    "version": 3
   },
   "file_extension": ".py",
   "mimetype": "text/x-python",
   "name": "python",
   "nbconvert_exporter": "python",
   "pygments_lexer": "ipython3",
   "version": "3.11.5"
  }
 },
 "nbformat": 4,
 "nbformat_minor": 5
}
